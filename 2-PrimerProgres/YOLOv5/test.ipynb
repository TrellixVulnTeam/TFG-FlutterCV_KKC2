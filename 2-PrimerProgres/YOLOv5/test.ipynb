{
 "cells": [
  {
   "cell_type": "code",
   "execution_count": 1,
   "metadata": {},
   "outputs": [],
   "source": [
    "import torch\n",
    "import requests\n",
    "import shutil\n",
    "from PIL import Image\n",
    "from roboflow import Roboflow"
   ]
  },
  {
   "cell_type": "code",
   "execution_count": 2,
   "metadata": {},
   "outputs": [
    {
     "name": "stderr",
     "output_type": "stream",
     "text": [
      "Using cache found in C:\\Users\\Juanka/.cache\\torch\\hub\\ultralytics_yolov5_master\n",
      "YOLOv5  2022-3-11 torch 1.11.0+cpu CPU\n",
      "\n",
      "Fusing layers... \n",
      "Model Summary: 213 layers, 7225885 parameters, 0 gradients\n",
      "Adding AutoShape... \n",
      "image 1/1: 664x1238 3 persons\n",
      "Speed: 793.5ms pre-process, 189.4ms inference, 6.6ms NMS per image at shape (1, 3, 352, 640)\n"
     ]
    }
   ],
   "source": [
    "model = torch.hub.load('ultralytics/yolov5', 'yolov5s')\n",
    "\n",
    "img = 'https://static.gosunoob.com/img/1/2020/04/real-or-fake-paintings-statues-animal-crossing-new-horizons.jpg'\n",
    "\n",
    "results = model(img)\n",
    "\n",
    "results.print()"
   ]
  },
  {
   "cell_type": "code",
   "execution_count": 3,
   "metadata": {},
   "outputs": [],
   "source": [
    "results.show()"
   ]
  },
  {
   "cell_type": "code",
   "execution_count": 19,
   "metadata": {},
   "outputs": [],
   "source": [
    "filename_list = [\n",
    "\"FtrArtVitruvianMan\",\n",
    "\"FtrArtVitruvianManFake\",\n",
    "\"FtrArtNightWatch\",\n",
    "\"FtrArtNightWatchFake\",\n",
    "\"FtrSculptureDoguu\",\n",
    "\"FtrSculptureDoguuFake\",\n",
    "\"FtrArtBlueBoy\",\n",
    "\"FtrArtBlueBoyFake\",\n",
    "\"FtrSculptureMilo\",\n",
    "\"FtrSculptureMiloFake\",\n",
    "\"FtrArtSundayOn\",\n",
    "\"FtrArtGleaners\",\n",
    "\"FtrArtAjisaisoukeizu\",\n",
    "\"FtrArtAjisaisoukeizuFake\",\n",
    "\"FtrArtKanagawaOki\",\n",
    "\"FtrSculptureThinker\",\n",
    "\"FtrArtMonaLisa\",\n",
    "\"FtrArtMonaLisaFake\",\n",
    "\"FtrArtSunflower\",\n",
    "\"FtrSculptureDavid\",\n",
    "\"FtrSculptureDavidFake\",\n",
    "\"FtrArtFightingTemeraire\",\n",
    "\"FtrArtMikaeri\",\n",
    "\"FtrArtMikaeriFake\",\n",
    "\"FtrSculptureKamehameha\",\n",
    "\"FtrSculptureRosettaStone\",\n",
    "\"FtrSculptureRosettaStoneFake\",\n",
    "\"FtrArtSummer\",\n",
    "\"FtrArtSummerFake\",\n",
    "\"FtrArtSlower\",\n",
    "\"FtrSculptureCapitolini\",\n",
    "\"FtrSculptureCapitoliniFake\",\n",
    "\"FtrArtBirthVenus\",\n",
    "\"FtrArtBirthVenusFake\",\n",
    "\"FtrArtIsleOfDead\",\n",
    "\"FtrSculptureNefertiti\",\n",
    "\"FtrSculptureNefertitiFake\",\n",
    "\"FtrArtFifePlayer\",\n",
    "\"FtrArtAppleOrange\",\n",
    "\"FtrArtBarFB\",\n",
    "\"FtrArtMilkmaid\",\n",
    "\"FtrArtMilkmaidFake\",\n",
    "\"FtrSculptureDiskobolos\",\n",
    "\"FtrSculptureDiskobolosFake\",\n",
    "\"FtrSculptureOlmecaHead\",\n",
    "\"FtrSculptureOlmecaHeadFake\",\n",
    "\"FtrArtOotaniOniji\",\n",
    "\"FtrArtOotaniOnijiFake\",\n",
    "\"FtrArtHunterSnow\",\n",
    "\"FtrArtHunterSnowFake\",\n",
    "\"FtrArtPortraitCecilia\",\n",
    "\"FtrArtPortraitCeciliaFake\",\n",
    "\"FtrArtOphelia\",\n",
    "\"FtrArtLasMeninas\",\n",
    "\"FtrArtLasMeninasFake\",\n",
    "\"FtrSculptureHoumuwuDing\",\n",
    "\"FtrSculptureHoumuwuDingFake\",\n",
    "\"FtrArtStarryNight\",\n",
    "\"FtrSculptureSamothrace\",\n",
    "\"FtrSculptureSamothraceFake\",\n",
    "\"FtrArtClothedMaja\",\n",
    "\"FtrSculptureHeibayo\",\n",
    "\"FtrSculptureHeibayoFake\",\n",
    "\"FtrArtRaijin\",\n",
    "\"FtrArtRaijinFake\",\n",
    "\"FtrArtFuujin\",\n",
    "\"FtrArtFuujinFake\",\n",
    "\"FtrArtPearlEarring\",\n",
    "\"FtrArtPearlEarringFake\",\n",
    "\"FtrArtLibertyLeading\",\n",
    "]"
   ]
  },
  {
   "cell_type": "code",
   "execution_count": 21,
   "metadata": {},
   "outputs": [
    {
     "name": "stdout",
     "output_type": "stream",
     "text": [
      "Image succesfully downloaded:  ./mock_dataset/acnh_art/FtrArtVitruvianMan.png\n",
      "Image succesfully downloaded:  ./mock_dataset/acnh_art/FtrArtVitruvianManFake.png\n",
      "Image succesfully downloaded:  ./mock_dataset/acnh_art/FtrArtNightWatch.png\n",
      "Image succesfully downloaded:  ./mock_dataset/acnh_art/FtrArtNightWatchFake.png\n",
      "Image could't be retrieved\n",
      "Image could't be retrieved\n",
      "Image succesfully downloaded:  ./mock_dataset/acnh_art/FtrArtBlueBoy.png\n",
      "Image succesfully downloaded:  ./mock_dataset/acnh_art/FtrArtBlueBoyFake.png\n",
      "Image could't be retrieved\n",
      "Image could't be retrieved\n",
      "Image succesfully downloaded:  ./mock_dataset/acnh_art/FtrArtSundayOn.png\n",
      "Image succesfully downloaded:  ./mock_dataset/acnh_art/FtrArtGleaners.png\n",
      "Image succesfully downloaded:  ./mock_dataset/acnh_art/FtrArtAjisaisoukeizu.png\n",
      "Image succesfully downloaded:  ./mock_dataset/acnh_art/FtrArtAjisaisoukeizuFake.png\n",
      "Image succesfully downloaded:  ./mock_dataset/acnh_art/FtrArtKanagawaOki.png\n",
      "Image could't be retrieved\n",
      "Image succesfully downloaded:  ./mock_dataset/acnh_art/FtrArtMonaLisa.png\n",
      "Image succesfully downloaded:  ./mock_dataset/acnh_art/FtrArtMonaLisaFake.png\n",
      "Image succesfully downloaded:  ./mock_dataset/acnh_art/FtrArtSunflower.png\n",
      "Image could't be retrieved\n",
      "Image could't be retrieved\n",
      "Image succesfully downloaded:  ./mock_dataset/acnh_art/FtrArtFightingTemeraire.png\n",
      "Image succesfully downloaded:  ./mock_dataset/acnh_art/FtrArtMikaeri.png\n",
      "Image succesfully downloaded:  ./mock_dataset/acnh_art/FtrArtMikaeriFake.png\n",
      "Image could't be retrieved\n",
      "Image could't be retrieved\n",
      "Image could't be retrieved\n",
      "Image succesfully downloaded:  ./mock_dataset/acnh_art/FtrArtSummer.png\n",
      "Image succesfully downloaded:  ./mock_dataset/acnh_art/FtrArtSummerFake.png\n",
      "Image succesfully downloaded:  ./mock_dataset/acnh_art/FtrArtSlower.png\n",
      "Image could't be retrieved\n",
      "Image could't be retrieved\n",
      "Image succesfully downloaded:  ./mock_dataset/acnh_art/FtrArtBirthVenus.png\n",
      "Image succesfully downloaded:  ./mock_dataset/acnh_art/FtrArtBirthVenusFake.png\n",
      "Image succesfully downloaded:  ./mock_dataset/acnh_art/FtrArtIsleOfDead.png\n",
      "Image could't be retrieved\n",
      "Image could't be retrieved\n",
      "Image succesfully downloaded:  ./mock_dataset/acnh_art/FtrArtFifePlayer.png\n",
      "Image succesfully downloaded:  ./mock_dataset/acnh_art/FtrArtAppleOrange.png\n",
      "Image succesfully downloaded:  ./mock_dataset/acnh_art/FtrArtBarFB.png\n",
      "Image succesfully downloaded:  ./mock_dataset/acnh_art/FtrArtMilkmaid.png\n",
      "Image succesfully downloaded:  ./mock_dataset/acnh_art/FtrArtMilkmaidFake.png\n",
      "Image could't be retrieved\n",
      "Image could't be retrieved\n",
      "Image could't be retrieved\n",
      "Image could't be retrieved\n",
      "Image succesfully downloaded:  ./mock_dataset/acnh_art/FtrArtOotaniOniji.png\n",
      "Image succesfully downloaded:  ./mock_dataset/acnh_art/FtrArtOotaniOnijiFake.png\n",
      "Image succesfully downloaded:  ./mock_dataset/acnh_art/FtrArtHunterSnow.png\n",
      "Image succesfully downloaded:  ./mock_dataset/acnh_art/FtrArtHunterSnowFake.png\n",
      "Image succesfully downloaded:  ./mock_dataset/acnh_art/FtrArtPortraitCecilia.png\n",
      "Image succesfully downloaded:  ./mock_dataset/acnh_art/FtrArtPortraitCeciliaFake.png\n",
      "Image succesfully downloaded:  ./mock_dataset/acnh_art/FtrArtOphelia.png\n",
      "Image succesfully downloaded:  ./mock_dataset/acnh_art/FtrArtLasMeninas.png\n",
      "Image succesfully downloaded:  ./mock_dataset/acnh_art/FtrArtLasMeninasFake.png\n",
      "Image could't be retrieved\n",
      "Image could't be retrieved\n",
      "Image succesfully downloaded:  ./mock_dataset/acnh_art/FtrArtStarryNight.png\n",
      "Image could't be retrieved\n",
      "Image could't be retrieved\n",
      "Image succesfully downloaded:  ./mock_dataset/acnh_art/FtrArtClothedMaja.png\n",
      "Image could't be retrieved\n",
      "Image could't be retrieved\n",
      "Image succesfully downloaded:  ./mock_dataset/acnh_art/FtrArtRaijin.png\n",
      "Image succesfully downloaded:  ./mock_dataset/acnh_art/FtrArtRaijinFake.png\n",
      "Image succesfully downloaded:  ./mock_dataset/acnh_art/FtrArtFuujin.png\n",
      "Image succesfully downloaded:  ./mock_dataset/acnh_art/FtrArtFuujinFake.png\n",
      "Image succesfully downloaded:  ./mock_dataset/acnh_art/FtrArtPearlEarring.png\n",
      "Image succesfully downloaded:  ./mock_dataset/acnh_art/FtrArtPearlEarringFake.png\n",
      "Image succesfully downloaded:  ./mock_dataset/acnh_art/FtrArtLibertyLeading.png\n"
     ]
    }
   ],
   "source": [
    "\n",
    "for itemname in filename_list:\n",
    "    url = f\"https://acnhcdn.com/art/{itemname}.png\"\n",
    "    filename = f\"./mock_dataset/acnh_art/{itemname}.png\"\n",
    "\n",
    "    res = requests.get(url, stream = True)\n",
    "\n",
    "    if res.status_code == 200:\n",
    "        with open(filename, 'wb') as f:\n",
    "            shutil.copyfileobj(res.raw, f)\n",
    "        print('Image succesfully downloaded: ', filename)\n",
    "    else:\n",
    "        print('Image could\\'t be retrieved')\n",
    "\n"
   ]
  },
  {
   "cell_type": "code",
   "execution_count": 2,
   "metadata": {},
   "outputs": [
    {
     "name": "stdout",
     "output_type": "stream",
     "text": [
      "loading Roboflow workspace...\n",
      "loading Roboflow project...\n",
      "Downloading Dataset Version Zip in Mock-Art-2 to yolov5pytorch: 100% [4629889 / 4629889] bytes\n"
     ]
    },
    {
     "name": "stderr",
     "output_type": "stream",
     "text": [
      "Extracting Dataset Version Zip to Mock-Art-2 in yolov5pytorch:: 100%|██████████| 192/192 [00:00<00:00, 1342.58it/s]\n"
     ]
    }
   ],
   "source": [
    "rf = Roboflow(api_key=\"GU424Jxiq0hL1x472mjL\")\n",
    "project = rf.workspace(\"juan-carlos-soriano\").project(\"mock-art\")\n",
    "dataset = project.version(2).download(\"yolov5\")"
   ]
  },
  {
   "cell_type": "code",
   "execution_count": 2,
   "metadata": {},
   "outputs": [
    {
     "data": {
      "text/plain": [
       "'1.11.0+cpu'"
      ]
     },
     "execution_count": 2,
     "metadata": {},
     "output_type": "execute_result"
    }
   ],
   "source": [
    "torch.__version__"
   ]
  }
 ],
 "metadata": {
  "interpreter": {
   "hash": "31006f70d6eb896246615e747baa0ad3cd88c00c0e45c4221132103452e9dfdc"
  },
  "kernelspec": {
   "display_name": "Python 3.10.2 64-bit",
   "language": "python",
   "name": "python3"
  },
  "language_info": {
   "codemirror_mode": {
    "name": "ipython",
    "version": 3
   },
   "file_extension": ".py",
   "mimetype": "text/x-python",
   "name": "python",
   "nbconvert_exporter": "python",
   "pygments_lexer": "ipython3",
   "version": "3.10.2"
  },
  "orig_nbformat": 4
 },
 "nbformat": 4,
 "nbformat_minor": 2
}
