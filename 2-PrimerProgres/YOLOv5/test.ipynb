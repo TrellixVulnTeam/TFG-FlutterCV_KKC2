{
 "cells": [
  {
   "cell_type": "code",
   "execution_count": 1,
   "metadata": {},
   "outputs": [
    {
     "name": "stderr",
     "output_type": "stream",
     "text": [
      "Using cache found in C:\\Users\\thela/.cache\\torch\\hub\\ultralytics_yolov5_master\n",
      "YOLOv5  2022-3-13 torch 1.11.0+cu113 CUDA:0 (NVIDIA GeForce RTX 3080, 10239MiB)\n",
      "\n",
      "Fusing layers... \n",
      "Model Summary: 213 layers, 7225885 parameters, 0 gradients\n",
      "Adding AutoShape... \n"
     ]
    }
   ],
   "source": [
    "import torch\n",
    "import requests\n",
    "from roboflow import Roboflow\n",
    "\n",
    "model = torch.hub.load('ultralytics/yolov5', 'yolov5s')\n",
    "img = 'https://ultralytics.com/images/zidane.jpg'\n",
    "results = model(img)\n",
    "results.show()"
   ]
  },
  {
   "cell_type": "code",
   "execution_count": 3,
   "metadata": {},
   "outputs": [],
   "source": [
    "name_list = [\n",
    "\"FtrArtVitruvianMan\",\n",
    "\"FtrArtVitruvianManFake\",\n",
    "\"FtrArtNightWatch\",\n",
    "\"FtrArtNightWatchFake\",\n",
    "\"FtrSculptureDoguu\",\n",
    "\"FtrSculptureDoguuFake\",\n",
    "\"FtrArtBlueBoy\",\n",
    "\"FtrArtBlueBoyFake\",\n",
    "\"FtrSculptureMilo\",\n",
    "\"FtrSculptureMiloFake\",\n",
    "\"FtrArtSundayOn\",\n",
    "\"FtrArtGleaners\",\n",
    "\"FtrArtAjisaisoukeizu\",\n",
    "\"FtrArtAjisaisoukeizuFake\",\n",
    "\"FtrArtKanagawaOki\",\n",
    "\"FtrSculptureThinker\",\n",
    "\"FtrArtMonaLisa\",\n",
    "\"FtrArtMonaLisaFake\",\n",
    "\"FtrArtSunflower\",\n",
    "\"FtrSculptureDavid\",\n",
    "\"FtrSculptureDavidFake\",\n",
    "\"FtrArtFightingTemeraire\",\n",
    "\"FtrArtMikaeri\",\n",
    "\"FtrArtMikaeriFake\",\n",
    "\"FtrSculptureKamehameha\",\n",
    "\"FtrSculptureRosettaStone\",\n",
    "\"FtrSculptureRosettaStoneFake\",\n",
    "\"FtrArtSummer\",\n",
    "\"FtrArtSummerFake\",\n",
    "\"FtrArtSlower\",\n",
    "\"FtrSculptureCapitolini\",\n",
    "\"FtrSculptureCapitoliniFake\",\n",
    "\"FtrArtBirthVenus\",\n",
    "\"FtrArtBirthVenusFake\",\n",
    "\"FtrArtIsleOfDead\",\n",
    "\"FtrSculptureNefertiti\",\n",
    "\"FtrSculptureNefertitiFake\",\n",
    "\"FtrArtFifePlayer\",\n",
    "\"FtrArtAppleOrange\",\n",
    "\"FtrArtBarFB\",\n",
    "\"FtrArtMilkmaid\",\n",
    "\"FtrArtMilkmaidFake\",\n",
    "\"FtrSculptureDiskobolos\",\n",
    "\"FtrSculptureDiskobolosFake\",\n",
    "\"FtrSculptureOlmecaHead\",\n",
    "\"FtrSculptureOlmecaHeadFake\",\n",
    "\"FtrArtOotaniOniji\",\n",
    "\"FtrArtOotaniOnijiFake\",\n",
    "\"FtrArtHunterSnow\",\n",
    "\"FtrArtHunterSnowFake\",\n",
    "\"FtrArtPortraitCecilia\",\n",
    "\"FtrArtPortraitCeciliaFake\",\n",
    "\"FtrArtOphelia\",\n",
    "\"FtrArtLasMeninas\",\n",
    "\"FtrArtLasMeninasFake\",\n",
    "\"FtrSculptureHoumuwuDing\",\n",
    "\"FtrSculptureHoumuwuDingFake\",\n",
    "\"FtrArtStarryNight\",\n",
    "\"FtrSculptureSamothrace\",\n",
    "\"FtrSculptureSamothraceFake\",\n",
    "\"FtrArtClothedMaja\",\n",
    "\"FtrSculptureHeibayo\",\n",
    "\"FtrSculptureHeibayoFake\",\n",
    "\"FtrArtRaijin\",\n",
    "\"FtrArtRaijinFake\",\n",
    "\"FtrArtFuujin\",\n",
    "\"FtrArtFuujinFake\",\n",
    "\"FtrArtPearlEarring\",\n",
    "\"FtrArtPearlEarringFake\",\n",
    "\"FtrArtLibertyLeading\"\n",
    "]"
   ]
  },
  {
   "cell_type": "code",
   "execution_count": 5,
   "metadata": {},
   "outputs": [],
   "source": [
    "for name in name_list:\n",
    "    if \"Sculpture\" not in name:\n",
    "        img_data = requests.get(f\"https://acnhcdn.com/latest/FtrIcon/{name}.png\").content\n",
    "        with open(f'./ac_images/{name}_preview.png', 'wb') as handler:\n",
    "            handler.write(img_data)"
   ]
  },
  {
   "cell_type": "code",
   "execution_count": 2,
   "metadata": {},
   "outputs": [
    {
     "name": "stdout",
     "output_type": "stream",
     "text": [
      "loading Roboflow workspace...\n",
      "loading Roboflow project...\n",
      "Downloading Dataset Version Zip in Mock-Art-5 to yolov5pytorch: 100% [4629502 / 4629502] bytes\n"
     ]
    },
    {
     "name": "stderr",
     "output_type": "stream",
     "text": [
      "Extracting Dataset Version Zip to Mock-Art-5 in yolov5pytorch:: 100%|██████████| 192/192 [00:00<00:00, 1699.11it/s]\n"
     ]
    }
   ],
   "source": [
    "#Version 5\n",
    "from roboflow import Roboflow\n",
    "rf = Roboflow(api_key=\"GU424Jxiq0hL1x472mjL\")\n",
    "project = rf.workspace(\"juan-carlos-soriano\").project(\"mock-art\")\n",
    "dataset = project.version(5).download(\"yolov5\")"
   ]
  },
  {
   "cell_type": "code",
   "execution_count": 7,
   "metadata": {},
   "outputs": [
    {
     "name": "stdout",
     "output_type": "stream",
     "text": [
      "loading Roboflow workspace...\n",
      "loading Roboflow project...\n",
      "Downloading Dataset Version Zip in Mock-Art-7 to yolov5pytorch: 100% [6308049 / 6308049] bytes\n"
     ]
    },
    {
     "name": "stderr",
     "output_type": "stream",
     "text": [
      "Extracting Dataset Version Zip to Mock-Art-7 in yolov5pytorch:: 100%|██████████| 280/280 [00:00<00:00, 1530.06it/s]\n"
     ]
    }
   ],
   "source": [
    "#Version 7 (preview images + correction labels)\n",
    "from roboflow import Roboflow\n",
    "rf = Roboflow(api_key=\"GU424Jxiq0hL1x472mjL\")\n",
    "project = rf.workspace(\"juan-carlos-soriano\").project(\"mock-art\")\n",
    "dataset = project.version(7).download(\"yolov5\")"
   ]
  },
  {
   "cell_type": "code",
   "execution_count": 2,
   "metadata": {},
   "outputs": [
    {
     "name": "stdout",
     "output_type": "stream",
     "text": [
      "loading Roboflow workspace...\n",
      "loading Roboflow project...\n",
      "Downloading Dataset Version Zip in Mock-Art-9 to yolov5pytorch: 100% [30926719 / 30926719] bytes\n"
     ]
    },
    {
     "name": "stderr",
     "output_type": "stream",
     "text": [
      "Extracting Dataset Version Zip to Mock-Art-9 in yolov5pytorch:: 100%|██████████| 466/466 [00:00<00:00, 1809.45it/s]\n"
     ]
    }
   ],
   "source": [
    "#Version 9 (quitando preview, mejorando etiquetas y añadiendo data augmentation en roboflow)\n",
    "from roboflow import Roboflow\n",
    "rf = Roboflow(api_key=\"GU424Jxiq0hL1x472mjL\")\n",
    "project = rf.workspace(\"juan-carlos-soriano\").project(\"mock-art\")\n",
    "dataset = project.version(9).download(\"yolov5\")"
   ]
  },
  {
   "cell_type": "code",
   "execution_count": 5,
   "metadata": {},
   "outputs": [
    {
     "name": "stdout",
     "output_type": "stream",
     "text": [
      "loading Roboflow workspace...\n",
      "loading Roboflow project...\n",
      "Downloading Dataset Version Zip in Mock-Art-10 to yolov5pytorch: 100% [53004384 / 53004384] bytes\n"
     ]
    },
    {
     "name": "stderr",
     "output_type": "stream",
     "text": [
      "Extracting Dataset Version Zip to Mock-Art-10 in yolov5pytorch:: 100%|██████████| 1474/1474 [00:01<00:00, 1339.36it/s]\n"
     ]
    }
   ],
   "source": [
    "#Version 10 (Dataset completo con estatuas y cuadros)\n",
    "rf = Roboflow(api_key=\"GU424Jxiq0hL1x472mjL\")\n",
    "project = rf.workspace(\"juan-carlos-soriano\").project(\"mock-art\")\n",
    "dataset = project.version(10).download(\"yolov5\")"
   ]
  },
  {
   "cell_type": "code",
   "execution_count": 4,
   "metadata": {},
   "outputs": [
    {
     "name": "stdout",
     "output_type": "stream",
     "text": [
      "loading Roboflow workspace...\n",
      "loading Roboflow project...\n",
      "Downloading Dataset Version Zip in Mock-Art-12 to yolov5pytorch: 100% [12098515 / 12098515] bytes\n"
     ]
    },
    {
     "name": "stderr",
     "output_type": "stream",
     "text": [
      "Extracting Dataset Version Zip to Mock-Art-12 in yolov5pytorch:: 100%|██████████| 610/610 [00:00<00:00, 1455.59it/s]\n"
     ]
    }
   ],
   "source": [
    "#Version 12 (Dataset completo con estatuas y cuadros)\n",
    "rf = Roboflow(api_key=\"GU424Jxiq0hL1x472mjL\")\n",
    "project = rf.workspace(\"juan-carlos-soriano\").project(\"mock-art\")\n",
    "dataset = project.version(12).download(\"yolov5\")"
   ]
  },
  {
   "cell_type": "code",
   "execution_count": 5,
   "metadata": {},
   "outputs": [
    {
     "name": "stdout",
     "output_type": "stream",
     "text": [
      "loading Roboflow workspace...\n",
      "loading Roboflow project...\n",
      "Downloading Dataset Version Zip in Mock-Art-14 to yolov5pytorch: 100% [36270172 / 36270172] bytes\n"
     ]
    },
    {
     "name": "stderr",
     "output_type": "stream",
     "text": [
      "Extracting Dataset Version Zip to Mock-Art-14 in yolov5pytorch:: 100%|██████████| 604/604 [00:00<00:00, 1354.26it/s]\n"
     ]
    }
   ],
   "source": [
    "#Version 14 (Dataset mejor balanceado y 1280px)\n",
    "rf = Roboflow(api_key=\"GU424Jxiq0hL1x472mjL\")\n",
    "project = rf.workspace(\"juan-carlos-soriano\").project(\"mock-art\")\n",
    "dataset = project.version(14).download(\"yolov5\")"
   ]
  },
  {
   "cell_type": "code",
   "execution_count": 2,
   "metadata": {},
   "outputs": [
    {
     "name": "stdout",
     "output_type": "stream",
     "text": [
      "loading Roboflow workspace...\n",
      "loading Roboflow project...\n",
      "Downloading Dataset Version Zip in Mock-Art-15 to yolov5pytorch: 100% [52384621 / 52384621] bytes\n"
     ]
    },
    {
     "name": "stderr",
     "output_type": "stream",
     "text": [
      "Extracting Dataset Version Zip to Mock-Art-15 in yolov5pytorch:: 100%|██████████| 904/904 [00:00<00:00, 1793.00it/s]\n"
     ]
    }
   ],
   "source": [
    "#Version 15 (Dataset parcheado y 1280px)\n",
    "rf = Roboflow(api_key=\"GU424Jxiq0hL1x472mjL\")\n",
    "project = rf.workspace(\"juan-carlos-soriano\").project(\"mock-art\")\n",
    "dataset = project.version(15).download(\"yolov5\")"
   ]
  },
  {
   "cell_type": "code",
   "execution_count": null,
   "metadata": {},
   "outputs": [],
   "source": [
    "#Version 16 (Dataset parcheado y 1280px + data augmentation)\n",
    "rf = Roboflow(api_key=\"GU424Jxiq0hL1x472mjL\")\n",
    "project = rf.workspace(\"juan-carlos-soriano\").project(\"mock-art\")\n",
    "dataset = project.version(16).download(\"yolov5\")"
   ]
  },
  {
   "cell_type": "code",
   "execution_count": 4,
   "metadata": {},
   "outputs": [
    {
     "name": "stderr",
     "output_type": "stream",
     "text": [
      "Using cache found in C:\\Users\\thela/.cache\\torch\\hub\\ultralytics_yolov5_master\n",
      "YOLOv5  2022-3-13 torch 1.11.0+cu113 CUDA:0 (NVIDIA GeForce RTX 3080, 10239MiB)\n",
      "\n",
      "Fusing layers... \n",
      "Model Summary: 367 layers, 46479843 parameters, 0 gradients\n",
      "Adding AutoShape... \n",
      "image 1/1: 720x1280 1 FifePlayer, 1 OotaniOniji, 1 Slower\n",
      "Speed: 134.0ms pre-process, 17.0ms inference, 2.0ms NMS per image at shape (1, 3, 384, 640)\n"
     ]
    },
    {
     "data": {
      "text/html": [
       "<div>\n",
       "<style scoped>\n",
       "    .dataframe tbody tr th:only-of-type {\n",
       "        vertical-align: middle;\n",
       "    }\n",
       "\n",
       "    .dataframe tbody tr th {\n",
       "        vertical-align: top;\n",
       "    }\n",
       "\n",
       "    .dataframe thead th {\n",
       "        text-align: right;\n",
       "    }\n",
       "</style>\n",
       "<table border=\"1\" class=\"dataframe\">\n",
       "  <thead>\n",
       "    <tr style=\"text-align: right;\">\n",
       "      <th></th>\n",
       "      <th>xmin</th>\n",
       "      <th>ymin</th>\n",
       "      <th>xmax</th>\n",
       "      <th>ymax</th>\n",
       "      <th>confidence</th>\n",
       "      <th>class</th>\n",
       "      <th>name</th>\n",
       "    </tr>\n",
       "  </thead>\n",
       "  <tbody>\n",
       "    <tr>\n",
       "      <th>0</th>\n",
       "      <td>552.219666</td>\n",
       "      <td>164.136826</td>\n",
       "      <td>731.040222</td>\n",
       "      <td>452.450928</td>\n",
       "      <td>0.451490</td>\n",
       "      <td>17</td>\n",
       "      <td>FifePlayer</td>\n",
       "    </tr>\n",
       "    <tr>\n",
       "      <th>1</th>\n",
       "      <td>546.391663</td>\n",
       "      <td>155.923172</td>\n",
       "      <td>736.996887</td>\n",
       "      <td>457.935730</td>\n",
       "      <td>0.170284</td>\n",
       "      <td>61</td>\n",
       "      <td>Slower</td>\n",
       "    </tr>\n",
       "    <tr>\n",
       "      <th>2</th>\n",
       "      <td>553.263794</td>\n",
       "      <td>172.436874</td>\n",
       "      <td>730.203369</td>\n",
       "      <td>445.187012</td>\n",
       "      <td>0.114871</td>\n",
       "      <td>48</td>\n",
       "      <td>OotaniOniji</td>\n",
       "    </tr>\n",
       "  </tbody>\n",
       "</table>\n",
       "</div>"
      ],
      "text/plain": [
       "         xmin        ymin        xmax        ymax  confidence  class  \\\n",
       "0  552.219666  164.136826  731.040222  452.450928    0.451490     17   \n",
       "1  546.391663  155.923172  736.996887  457.935730    0.170284     61   \n",
       "2  553.263794  172.436874  730.203369  445.187012    0.114871     48   \n",
       "\n",
       "          name  \n",
       "0   FifePlayer  \n",
       "1       Slower  \n",
       "2  OotaniOniji  "
      ]
     },
     "execution_count": 4,
     "metadata": {},
     "output_type": "execute_result"
    }
   ],
   "source": [
    "#Pruebas de funcionamiento\n",
    "\n",
    "model = torch.hub.load('ultralytics/yolov5', 'custom', path='./runs/train/exp70/weights/best.pt')\n",
    "\n",
    "img = \"https://www.gamespot.com/a/uploads/original/1575/15759911/3663920-scary%20painting%20fake.jpg\"\n",
    "\n",
    "model.conf = 0.1\n",
    "model.max_det = 3\n",
    "results = model(img)\n",
    "\n",
    "results.print()\n",
    "results.show()\n",
    "results.pandas().xyxy[0]"
   ]
  }
 ],
 "metadata": {
  "interpreter": {
   "hash": "90c996844f162385670ff3f8a6d5b23ce53e8787a1facd2cd51e20e48814c042"
  },
  "kernelspec": {
   "display_name": "Python 3.10.2 ('venv': venv)",
   "language": "python",
   "name": "python3"
  },
  "language_info": {
   "codemirror_mode": {
    "name": "ipython",
    "version": 3
   },
   "file_extension": ".py",
   "mimetype": "text/x-python",
   "name": "python",
   "nbconvert_exporter": "python",
   "pygments_lexer": "ipython3",
   "version": "3.10.2"
  },
  "orig_nbformat": 4
 },
 "nbformat": 4,
 "nbformat_minor": 2
}
