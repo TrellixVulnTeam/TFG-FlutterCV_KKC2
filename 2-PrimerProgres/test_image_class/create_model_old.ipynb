{
 "cells": [
  {
   "cell_type": "code",
   "execution_count": 14,
   "metadata": {},
   "outputs": [
    {
     "name": "stdout",
     "output_type": "stream",
     "text": [
      "tfds.core.DatasetInfo(\n",
      "    name='image_folder',\n",
      "    full_name='image_folder/1.0.0',\n",
      "    description=\"\"\"\n",
      "    Generic image classification dataset.\n",
      "    \"\"\",\n",
      "    homepage='https://www.tensorflow.org/datasets/catalog/image_folder',\n",
      "    data_path='data/',\n",
      "    download_size=Unknown size,\n",
      "    dataset_size=Unknown size,\n",
      "    features=FeaturesDict({\n",
      "        'image': Image(shape=(None, None, 3), dtype=tf.uint8),\n",
      "        'image/filename': Text(shape=(), dtype=tf.string),\n",
      "        'label': ClassLabel(shape=(), dtype=tf.int64, num_classes=70),\n",
      "    }),\n",
      "    supervised_keys=('image', 'label'),\n",
      "    disable_shuffling=False,\n",
      "    splits={\n",
      "        'test': <SplitInfo num_examples=91, num_shards=1>,\n",
      "        'train': <SplitInfo num_examples=732, num_shards=1>,\n",
      "        'valid': <SplitInfo num_examples=64, num_shards=1>,\n",
      "    },\n",
      "    citation=\"\"\"\"\"\",\n",
      ")\n"
     ]
    }
   ],
   "source": [
    "import tensorflow as tf\n",
    "import tensorflow_datasets as tfds\n",
    "from tensorflow.keras.utils import to_categorical\n",
    "import numpy as np\n",
    "import cv2\n",
    "import os\n",
    "import glob\n",
    "\n",
    "base_train_dir = './data/train'\n",
    "base_test_dir = './data/test'\n",
    "base_valid_dir = './data/valid'\n",
    "\n",
    "IMAGE_SIZE = 1280\n",
    "BATCH_SIZE = 8\n",
    "NUM_EPOCHS = 20\n",
    "\n",
    "file1 = open('labels.txt', 'r')\n",
    "lines = file1.readlines()\n",
    "counter = 0\n",
    "checkpoint_period = 10\n",
    "\n",
    "with open('corrected_labels.txt', 'a') as f:\n",
    "    f.write('{')\n",
    "\n",
    "for line in lines:\n",
    "    with open('corrected_labels.txt', 'a') as f:\n",
    "        f.write(f\"'{line.strip()}': {counter}, \")\n",
    "    counter+=1\n",
    "\n",
    "with open('corrected_labels.txt', 'a') as f:\n",
    "    f.write('}')\n",
    "\n",
    "\n",
    "builder = tfds.folder_dataset.ImageFolder('data/')\n",
    "print(builder.info)\n"
   ]
  },
  {
   "cell_type": "code",
   "execution_count": null,
   "metadata": {},
   "outputs": [],
   "source": [
    "def generate_batches(path, batchSize):\n",
    "    while True:\n",
    "        files = glob.glob(path+'/*/*jpg')\n",
    "        for f in range(0, len(files), batchSize):\n",
    "            x = []\n",
    "            y = []\n",
    "            for i in range(f, f+batchSize):\n",
    "                if i < len(files):\n",
    "                    img = cv2.imread(files[i])\n",
    "                    x.append(cv2.resize(img, (224, 224)))\n",
    "                    y.append(int(files[i].split('/')[1]))\n",
    "            yield(np.array(x), to_categorical(y, num_classes=70))\n",
    "                    "
   ]
  },
  {
   "cell_type": "code",
   "execution_count": 10,
   "metadata": {},
   "outputs": [],
   "source": [
    "raw_train = builder.as_dataset(split='train', shuffle_files=True)\n",
    "raw_test = builder.as_dataset(split='test', shuffle_files=True)\n",
    "raw_valid = builder.as_dataset(split='valid', shuffle_files=True)"
   ]
  },
  {
   "cell_type": "code",
   "execution_count": 4,
   "metadata": {},
   "outputs": [
    {
     "name": "stdout",
     "output_type": "stream",
     "text": [
      "WARNING:tensorflow:`input_shape` is undefined or non-square, or `rows` is not in [96, 128, 160, 192, 224]. Weights for input shape (224, 224) will be loaded as the default.\n"
     ]
    }
   ],
   "source": [
    "IMG_SHAPE = (IMAGE_SIZE, IMAGE_SIZE, 3)\n",
    "base_model = tf.keras.applications.MobileNetV2(\n",
    "    input_shape = IMG_SHAPE,\n",
    "    include_top = False,\n",
    ")"
   ]
  },
  {
   "cell_type": "code",
   "execution_count": 5,
   "metadata": {},
   "outputs": [],
   "source": [
    "base_model.trainable = False\n",
    "model = tf.keras.Sequential([\n",
    "    base_model,\n",
    "    tf.keras.layers.Conv2D(32,3, activation= 'relu'),\n",
    "    tf.keras.layers.Dropout(0.2),\n",
    "    tf.keras.layers.GlobalAveragePooling2D(),\n",
    "    tf.keras.layers.Dense(70, activation='softmax')\n",
    "])"
   ]
  },
  {
   "cell_type": "code",
   "execution_count": 6,
   "metadata": {},
   "outputs": [],
   "source": [
    "model.compile(\n",
    "    optimizer = tf.keras.optimizers.Adam(),\n",
    "    loss = 'categorical_crossentropy',\n",
    "    metrics = ['accuracy']\n",
    ")"
   ]
  },
  {
   "cell_type": "code",
   "execution_count": null,
   "metadata": {},
   "outputs": [],
   "source": [
    "checkpoint = ModelCheckpoint(\"logs/weights.h5\", monitor='loss', save_best_only=True, period=checkpoint_period)\n",
    "model.fit_generator(generate_batches(base_train_dir, BATCH_SIZE), epochs=NUM_EPOCHS, steps_per_epoch=len(files)//BATCH_SIZE, verbose=1, callbacks=[checkpoint])"
   ]
  },
  {
   "cell_type": "code",
   "execution_count": 11,
   "metadata": {},
   "outputs": [
    {
     "name": "stdout",
     "output_type": "stream",
     "text": [
      "Epoch 1/20\n"
     ]
    },
    {
     "ename": "ValueError",
     "evalue": "in user code:\n\n    File \"c:\\Users\\Juanka\\Documents\\TFG\\2-PrimerProgres\\test_image_class\\venv\\lib\\site-packages\\keras\\engine\\training.py\", line 1021, in train_function  *\n        return step_function(self, iterator)\n    File \"c:\\Users\\Juanka\\Documents\\TFG\\2-PrimerProgres\\test_image_class\\venv\\lib\\site-packages\\keras\\engine\\training.py\", line 1010, in step_function  **\n        outputs = model.distribute_strategy.run(run_step, args=(data,))\n    File \"c:\\Users\\Juanka\\Documents\\TFG\\2-PrimerProgres\\test_image_class\\venv\\lib\\site-packages\\keras\\engine\\training.py\", line 1000, in run_step  **\n        outputs = model.train_step(data)\n    File \"c:\\Users\\Juanka\\Documents\\TFG\\2-PrimerProgres\\test_image_class\\venv\\lib\\site-packages\\keras\\engine\\training.py\", line 859, in train_step\n        y_pred = self(x, training=True)\n    File \"c:\\Users\\Juanka\\Documents\\TFG\\2-PrimerProgres\\test_image_class\\venv\\lib\\site-packages\\keras\\utils\\traceback_utils.py\", line 67, in error_handler\n        raise e.with_traceback(filtered_tb) from None\n    File \"c:\\Users\\Juanka\\Documents\\TFG\\2-PrimerProgres\\test_image_class\\venv\\lib\\site-packages\\keras\\engine\\input_spec.py\", line 183, in assert_input_compatibility\n        raise ValueError(f'Missing data for input \"{name}\". '\n\n    ValueError: Missing data for input \"mobilenetv2_1.00_224_input\". You passed a data dictionary with keys ['image', 'image/filename', 'label']. Expected the following keys: ['mobilenetv2_1.00_224_input']\n",
     "output_type": "error",
     "traceback": [
      "\u001b[1;31m---------------------------------------------------------------------------\u001b[0m",
      "\u001b[1;31mValueError\u001b[0m                                Traceback (most recent call last)",
      "\u001b[1;32mc:\\Users\\Juanka\\Documents\\TFG\\2-PrimerProgres\\test_image_class\\create_model.ipynb Cell 6'\u001b[0m in \u001b[0;36m<cell line: 2>\u001b[1;34m()\u001b[0m\n\u001b[0;32m      <a href='vscode-notebook-cell:/c%3A/Users/Juanka/Documents/TFG/2-PrimerProgres/test_image_class/create_model.ipynb#ch0000004?line=0'>1</a>\u001b[0m epochs \u001b[39m=\u001b[39m \u001b[39m20\u001b[39m\n\u001b[1;32m----> <a href='vscode-notebook-cell:/c%3A/Users/Juanka/Documents/TFG/2-PrimerProgres/test_image_class/create_model.ipynb#ch0000004?line=1'>2</a>\u001b[0m history \u001b[39m=\u001b[39m model\u001b[39m.\u001b[39;49mfit(\n\u001b[0;32m      <a href='vscode-notebook-cell:/c%3A/Users/Juanka/Documents/TFG/2-PrimerProgres/test_image_class/create_model.ipynb#ch0000004?line=2'>3</a>\u001b[0m     raw_train,\n\u001b[0;32m      <a href='vscode-notebook-cell:/c%3A/Users/Juanka/Documents/TFG/2-PrimerProgres/test_image_class/create_model.ipynb#ch0000004?line=3'>4</a>\u001b[0m     epochs \u001b[39m=\u001b[39;49m epochs,\n\u001b[0;32m      <a href='vscode-notebook-cell:/c%3A/Users/Juanka/Documents/TFG/2-PrimerProgres/test_image_class/create_model.ipynb#ch0000004?line=4'>5</a>\u001b[0m     validation_data \u001b[39m=\u001b[39;49m raw_valid\n\u001b[0;32m      <a href='vscode-notebook-cell:/c%3A/Users/Juanka/Documents/TFG/2-PrimerProgres/test_image_class/create_model.ipynb#ch0000004?line=5'>6</a>\u001b[0m )\n",
      "File \u001b[1;32mc:\\Users\\Juanka\\Documents\\TFG\\2-PrimerProgres\\test_image_class\\venv\\lib\\site-packages\\keras\\utils\\traceback_utils.py:67\u001b[0m, in \u001b[0;36mfilter_traceback.<locals>.error_handler\u001b[1;34m(*args, **kwargs)\u001b[0m\n\u001b[0;32m     <a href='file:///c%3A/Users/Juanka/Documents/TFG/2-PrimerProgres/test_image_class/venv/lib/site-packages/keras/utils/traceback_utils.py?line=64'>65</a>\u001b[0m \u001b[39mexcept\u001b[39;00m \u001b[39mException\u001b[39;00m \u001b[39mas\u001b[39;00m e:  \u001b[39m# pylint: disable=broad-except\u001b[39;00m\n\u001b[0;32m     <a href='file:///c%3A/Users/Juanka/Documents/TFG/2-PrimerProgres/test_image_class/venv/lib/site-packages/keras/utils/traceback_utils.py?line=65'>66</a>\u001b[0m   filtered_tb \u001b[39m=\u001b[39m _process_traceback_frames(e\u001b[39m.\u001b[39m__traceback__)\n\u001b[1;32m---> <a href='file:///c%3A/Users/Juanka/Documents/TFG/2-PrimerProgres/test_image_class/venv/lib/site-packages/keras/utils/traceback_utils.py?line=66'>67</a>\u001b[0m   \u001b[39mraise\u001b[39;00m e\u001b[39m.\u001b[39mwith_traceback(filtered_tb) \u001b[39mfrom\u001b[39;00m \u001b[39mNone\u001b[39m\n\u001b[0;32m     <a href='file:///c%3A/Users/Juanka/Documents/TFG/2-PrimerProgres/test_image_class/venv/lib/site-packages/keras/utils/traceback_utils.py?line=67'>68</a>\u001b[0m \u001b[39mfinally\u001b[39;00m:\n\u001b[0;32m     <a href='file:///c%3A/Users/Juanka/Documents/TFG/2-PrimerProgres/test_image_class/venv/lib/site-packages/keras/utils/traceback_utils.py?line=68'>69</a>\u001b[0m   \u001b[39mdel\u001b[39;00m filtered_tb\n",
      "File \u001b[1;32mc:\\Users\\Juanka\\Documents\\TFG\\2-PrimerProgres\\test_image_class\\venv\\lib\\site-packages\\tensorflow\\python\\framework\\func_graph.py:1147\u001b[0m, in \u001b[0;36mfunc_graph_from_py_func.<locals>.autograph_handler\u001b[1;34m(*args, **kwargs)\u001b[0m\n\u001b[0;32m   <a href='file:///c%3A/Users/Juanka/Documents/TFG/2-PrimerProgres/test_image_class/venv/lib/site-packages/tensorflow/python/framework/func_graph.py?line=1144'>1145</a>\u001b[0m \u001b[39mexcept\u001b[39;00m \u001b[39mException\u001b[39;00m \u001b[39mas\u001b[39;00m e:  \u001b[39m# pylint:disable=broad-except\u001b[39;00m\n\u001b[0;32m   <a href='file:///c%3A/Users/Juanka/Documents/TFG/2-PrimerProgres/test_image_class/venv/lib/site-packages/tensorflow/python/framework/func_graph.py?line=1145'>1146</a>\u001b[0m   \u001b[39mif\u001b[39;00m \u001b[39mhasattr\u001b[39m(e, \u001b[39m\"\u001b[39m\u001b[39mag_error_metadata\u001b[39m\u001b[39m\"\u001b[39m):\n\u001b[1;32m-> <a href='file:///c%3A/Users/Juanka/Documents/TFG/2-PrimerProgres/test_image_class/venv/lib/site-packages/tensorflow/python/framework/func_graph.py?line=1146'>1147</a>\u001b[0m     \u001b[39mraise\u001b[39;00m e\u001b[39m.\u001b[39mag_error_metadata\u001b[39m.\u001b[39mto_exception(e)\n\u001b[0;32m   <a href='file:///c%3A/Users/Juanka/Documents/TFG/2-PrimerProgres/test_image_class/venv/lib/site-packages/tensorflow/python/framework/func_graph.py?line=1147'>1148</a>\u001b[0m   \u001b[39melse\u001b[39;00m:\n\u001b[0;32m   <a href='file:///c%3A/Users/Juanka/Documents/TFG/2-PrimerProgres/test_image_class/venv/lib/site-packages/tensorflow/python/framework/func_graph.py?line=1148'>1149</a>\u001b[0m     \u001b[39mraise\u001b[39;00m\n",
      "\u001b[1;31mValueError\u001b[0m: in user code:\n\n    File \"c:\\Users\\Juanka\\Documents\\TFG\\2-PrimerProgres\\test_image_class\\venv\\lib\\site-packages\\keras\\engine\\training.py\", line 1021, in train_function  *\n        return step_function(self, iterator)\n    File \"c:\\Users\\Juanka\\Documents\\TFG\\2-PrimerProgres\\test_image_class\\venv\\lib\\site-packages\\keras\\engine\\training.py\", line 1010, in step_function  **\n        outputs = model.distribute_strategy.run(run_step, args=(data,))\n    File \"c:\\Users\\Juanka\\Documents\\TFG\\2-PrimerProgres\\test_image_class\\venv\\lib\\site-packages\\keras\\engine\\training.py\", line 1000, in run_step  **\n        outputs = model.train_step(data)\n    File \"c:\\Users\\Juanka\\Documents\\TFG\\2-PrimerProgres\\test_image_class\\venv\\lib\\site-packages\\keras\\engine\\training.py\", line 859, in train_step\n        y_pred = self(x, training=True)\n    File \"c:\\Users\\Juanka\\Documents\\TFG\\2-PrimerProgres\\test_image_class\\venv\\lib\\site-packages\\keras\\utils\\traceback_utils.py\", line 67, in error_handler\n        raise e.with_traceback(filtered_tb) from None\n    File \"c:\\Users\\Juanka\\Documents\\TFG\\2-PrimerProgres\\test_image_class\\venv\\lib\\site-packages\\keras\\engine\\input_spec.py\", line 183, in assert_input_compatibility\n        raise ValueError(f'Missing data for input \"{name}\". '\n\n    ValueError: Missing data for input \"mobilenetv2_1.00_224_input\". You passed a data dictionary with keys ['image', 'image/filename', 'label']. Expected the following keys: ['mobilenetv2_1.00_224_input']\n"
     ]
    }
   ],
   "source": [
    "epochs = 20\n",
    "history = model.fit(\n",
    "    raw_train,\n",
    "    epochs = epochs,\n",
    "    validation_data = raw_valid\n",
    ")"
   ]
  }
 ],
 "metadata": {
  "interpreter": {
   "hash": "73180d738b06189163c46815029e116ca4c95d0befae52822bd016ec7b9af754"
  },
  "kernelspec": {
   "display_name": "Python 3.10.2 ('venv': venv)",
   "language": "python",
   "name": "python3"
  },
  "language_info": {
   "codemirror_mode": {
    "name": "ipython",
    "version": 3
   },
   "file_extension": ".py",
   "mimetype": "text/x-python",
   "name": "python",
   "nbconvert_exporter": "python",
   "pygments_lexer": "ipython3",
   "version": "3.9.12"
  },
  "orig_nbformat": 4
 },
 "nbformat": 4,
 "nbformat_minor": 2
}
