{
 "cells": [
  {
   "cell_type": "code",
   "execution_count": 1,
   "metadata": {},
   "outputs": [],
   "source": [
    "import numpy as np\n",
    "import os\n",
    "\n",
    "from tflite_model_maker.config import ExportFormat, QuantizationConfig\n",
    "from tflite_model_maker import model_spec\n",
    "from tflite_model_maker import object_detector\n",
    "\n",
    "from tflite_support import metadata\n",
    "\n",
    "import tensorflow as tf\n",
    "assert tf.__version__.startswith('2')\n",
    "\n",
    "tf.get_logger().setLevel('ERROR')\n",
    "from absl import logging\n",
    "logging.set_verbosity(logging.ERROR)"
   ]
  },
  {
   "cell_type": "code",
   "execution_count": 2,
   "metadata": {},
   "outputs": [
    {
     "name": "stdout",
     "output_type": "stream",
     "text": [
      "2.8.0\n"
     ]
    }
   ],
   "source": [
    "print(tf.version.VERSION)\n",
    "gpu_available = tf.test.is_gpu_available()\n",
    "is_cuda_gpu_available = tf.test.is_gpu_available()"
   ]
  },
  {
   "cell_type": "code",
   "execution_count": 3,
   "metadata": {},
   "outputs": [],
   "source": [
    "name_list = [\n",
    "\"VitruvianMan\",\n",
    "\"VitruvianManFake\",\n",
    "\"NightWatch\",\n",
    "\"NightWatchFake\",\n",
    "\"Doguu\",\n",
    "\"DoguuFake\",\n",
    "\"BlueBoy\",\n",
    "\"BlueBoyFake\",\n",
    "\"Milo\",\n",
    "\"MiloFake\",\n",
    "\"SundayOn\",\n",
    "\"Gleaners\",\n",
    "\"Ajisaisoukeizu\",\n",
    "\"AjisaisoukeizuFake\",\n",
    "\"Kanagawa\",\n",
    "\"Thinker\",\n",
    "\"MonaLisa\",\n",
    "\"MonaLisaFake\",\n",
    "\"Sunflower\",\n",
    "\"David\",\n",
    "\"DavidFake\",\n",
    "\"FightingTemeraire\",\n",
    "\"Mikaeri\",\n",
    "\"MikaeriFake\",\n",
    "\"Kamehameha\",\n",
    "\"RosettaStone\",\n",
    "\"RosettaStoneFake\",\n",
    "\"Summer\",\n",
    "\"SummerFake\",\n",
    "\"Slower\",\n",
    "\"Capitolini\",\n",
    "\"CapitoliniFake\",\n",
    "\"BirthVenus\",\n",
    "\"BirthVenusFake\",\n",
    "\"IsleOfDead\",\n",
    "\"Nefertiti\",\n",
    "\"NefertitiFake\",\n",
    "\"FifePlayer\",\n",
    "\"AppleOrange\",\n",
    "\"BarFB\",\n",
    "\"Milkmaid\",\n",
    "\"MilkmaidFake\",\n",
    "\"Diskobolos\",\n",
    "\"DiskobolosFake\",\n",
    "\"OlmecaHead\",\n",
    "\"OlmecaHeadFake\",\n",
    "\"OotaniOniji\",\n",
    "\"OotaniOnijiFake\",\n",
    "\"HunterSnow\",\n",
    "\"HunterSnowFake\",\n",
    "\"PortraitCecilia\",\n",
    "\"PortraitCeciliaFake\",\n",
    "\"Ophelia\",\n",
    "\"LasMeninas\",\n",
    "\"LasMeninasFake\",\n",
    "\"HoumuwuDing\",\n",
    "\"HoumuwuDingFake\",\n",
    "\"StarryNight\",\n",
    "\"Samothrace\",\n",
    "\"SamothraceFake\",\n",
    "\"ClothedMaja\",\n",
    "\"Heibayo\",\n",
    "\"HeibayoFake\",\n",
    "\"Raijin\",\n",
    "\"RaijinFake\",\n",
    "\"Fuujin\",\n",
    "\"FuujinFake\",\n",
    "\"PearlEarring\",\n",
    "\"PearlEarringFake\",\n",
    "\"LibertyLeading\"\n",
    "]\n",
    "\n",
    "train_data = object_detector.DataLoader.from_pascal_voc(\n",
    "    'Mock-Art-16-xml/train',\n",
    "    'Mock-Art-16-xml/train',\n",
    "    name_list\n",
    ")\n",
    "\n",
    "val_data = object_detector.DataLoader.from_pascal_voc(\n",
    "    'Mock-Art-16-xml/valid',\n",
    "    'Mock-Art-16-xml/valid',\n",
    "    name_list\n",
    ")\n",
    "\n",
    "test_data = object_detector.DataLoader.from_pascal_voc(\n",
    "    'Mock-Art-16-xml/test',\n",
    "    'Mock-Art-16-xml/test',\n",
    "    name_list\n",
    ")"
   ]
  },
  {
   "cell_type": "code",
   "execution_count": 4,
   "metadata": {},
   "outputs": [],
   "source": [
    "spec = model_spec.get('efficientdet_lite3')"
   ]
  },
  {
   "cell_type": "code",
   "execution_count": 5,
   "metadata": {},
   "outputs": [
    {
     "name": "stdout",
     "output_type": "stream",
     "text": [
      "Epoch 1/50\n"
     ]
    },
    {
     "ename": "Error",
     "evalue": "Canceled future for execute_request message before replies were done",
     "output_type": "error",
     "traceback": [
      "Error: Canceled future for execute_request message before replies were done",
      "at t.KernelShellFutureHandler.dispose (c:\\Users\\thela\\.vscode\\extensions\\ms-toolsai.jupyter-2022.3.1000901801\\out\\extension.js:2:1204175)",
      "at c:\\Users\\thela\\.vscode\\extensions\\ms-toolsai.jupyter-2022.3.1000901801\\out\\extension.js:2:1223227",
      "at Map.forEach (<anonymous>)",
      "at v._clearKernelState (c:\\Users\\thela\\.vscode\\extensions\\ms-toolsai.jupyter-2022.3.1000901801\\out\\extension.js:2:1223212)",
      "at v.dispose (c:\\Users\\thela\\.vscode\\extensions\\ms-toolsai.jupyter-2022.3.1000901801\\out\\extension.js:2:1216694)",
      "at c:\\Users\\thela\\.vscode\\extensions\\ms-toolsai.jupyter-2022.3.1000901801\\out\\extension.js:2:533674",
      "at t.swallowExceptions (c:\\Users\\thela\\.vscode\\extensions\\ms-toolsai.jupyter-2022.3.1000901801\\out\\extension.js:2:913059)",
      "at dispose (c:\\Users\\thela\\.vscode\\extensions\\ms-toolsai.jupyter-2022.3.1000901801\\out\\extension.js:2:533652)",
      "at t.RawSession.dispose (c:\\Users\\thela\\.vscode\\extensions\\ms-toolsai.jupyter-2022.3.1000901801\\out\\extension.js:2:537330)",
      "at processTicksAndRejections (node:internal/process/task_queues:96:5)"
     ]
    }
   ],
   "source": [
    "model = object_detector.create(train_data, model_spec=spec, batch_size=8, train_whole_model=True, epochs=50, validation_data=val_data)"
   ]
  }
 ],
 "metadata": {
  "interpreter": {
   "hash": "565d072ed4832cb3d35f387d06ae1629d08f6c41ed34dd72d957914b34faa64b"
  },
  "kernelspec": {
   "display_name": "lab1",
   "language": "python",
   "name": "lab1"
  },
  "language_info": {
   "codemirror_mode": {
    "name": "ipython",
    "version": 3
   },
   "file_extension": ".py",
   "mimetype": "text/x-python",
   "name": "python",
   "nbconvert_exporter": "python",
   "pygments_lexer": "ipython3",
   "version": "3.9.1"
  }
 },
 "nbformat": 4,
 "nbformat_minor": 2
}
